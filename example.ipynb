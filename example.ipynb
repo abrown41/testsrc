{
  "cells": [
    {
      "cell_type": "code",
      "execution_count": 6,
      "metadata": {
        "vscode": {
          "languageId": "r"
        }
      },
      "outputs": [
        {
          "name": "stderr",
          "output_type": "stream",
          "text": [
            "Loading required package: devtools\n",
            "\n",
            "Warning message in library(package, lib.loc = lib.loc, character.only = TRUE, logical.return = TRUE, :\n",
            "“there is no package called ‘devtools’”\n",
            "also installing the dependencies ‘xtable’, ‘sourcetools’, ‘promises’, ‘diffobj’, ‘shiny’, ‘htmlwidgets’, ‘prettyunits’, ‘xopen’, ‘praise’, ‘waldo’, ‘ellipsis’, ‘miniUI’, ‘profvis’, ‘rcmdcheck’, ‘remotes’, ‘rversions’, ‘sessioninfo’, ‘testthat’, ‘urlchecker’\n",
            "\n",
            "\n"
          ]
        },
        {
          "name": "stdout",
          "output_type": "stream",
          "text": [
            "\n",
            "The downloaded binary packages are in\n",
            "\t/var/folders/l6/2df6rj3s6y3gbj7jkgcp1cvw0000gp/T//Rtmp4f5oZA/downloaded_packages\n"
          ]
        },
        {
          "name": "stderr",
          "output_type": "stream",
          "text": [
            "Loading required package: usethis\n",
            "\n"
          ]
        }
      ],
      "source": [
        "# Check if required packages are installed\n",
        "if (!require(devtools)) {\n",
        "  install.packages(\"devtools\")\n",
        "  library(devtools)\n",
        "}\n",
        "\n",
        "# Install AutoFeedbackR package from GitHub\n",
        "if (!require(AutoFeedbackR)) {\n",
        "  devtools::install_github(\"abrown41/AutoFeedbackR\")\n",
        "  library(AutoFeedbackR)\n",
        "}\n",
        "\n",
        "# Install testsrc package from GitHub\n",
        "if (!require(testsrc)) {\n",
        "  devtools::install_github(\"abrown41/testsrc\")\n",
        "  library(testsrc)\n",
        "}"
      ]
    },
    {
      "cell_type": "code",
      "execution_count": 7,
      "metadata": {
        "colab": {
          "base_uri": "https://localhost:8080/",
          "height": 68
        },
        "id": "bSErVnxtx_l7",
        "outputId": "209100c6-728f-4b16-db0b-0b0f462d43b9",
        "vscode": {
          "languageId": "r"
        }
      },
      "outputs": [
        {
          "name": "stdout",
          "output_type": "stream",
          "text": [
            "\u001b[32mVariable 'x' is correctly defined.\u001b[0m\n"
          ]
        }
      ],
      "source": [
        "x <- array(1:12, dim = c(3, 4))  # 3 rows, 4 columns\n",
        "x <- 42\n",
        "\n",
        "test_x()"
      ]
    },
    {
      "cell_type": "code",
      "execution_count": 8,
      "metadata": {
        "id": "SJv7okfQyC78",
        "vscode": {
          "languageId": "r"
        }
      },
      "outputs": [
        {
          "name": "stdout",
          "output_type": "stream",
          "text": [
            "\u001b[32mFunction 'my_add' is correctly defined and returns the expected outputs.\u001b[0m\n"
          ]
        }
      ],
      "source": [
        "#------------------------------------------------\n",
        "# Example 1: Testing a correctly defined function\n",
        "#------------------------------------------------\n",
        "# Student implements the function correctly\n",
        "my_add <- function(a, b) {\n",
        "  return(a + b)\n",
        "}\n",
        "\n",
        "test_my_add()\n"
      ]
    }
  ],
  "metadata": {
    "colab": {
      "provenance": []
    },
    "kernelspec": {
      "display_name": "R",
      "language": "R",
      "name": "ir"
    },
    "language_info": {
      "codemirror_mode": "r",
      "file_extension": ".r",
      "mimetype": "text/x-r-source",
      "name": "R",
      "pygments_lexer": "r",
      "version": "4.4.2"
    }
  },
  "nbformat": 4,
  "nbformat_minor": 0
}
